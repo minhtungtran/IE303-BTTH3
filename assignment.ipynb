{
 "cells": [
  {
   "cell_type": "markdown",
   "id": "6e7b0cba",
   "metadata": {},
   "source": [
    "Yêu cầu:\n",
    "- Sử dụng Java Swing/JavaFX Thiết kế một website bán sản phẩm có bố cục như hình mẫu (8 điểm). \n",
    "- Thêm tính năng click chọn một sản phẩm ở trong danh sách các sản phẩm ở phía bên phải sẽ thay đổi sản phẩm được hiển thị ở phía bên trái (1 điểm).\n",
    "- Thêm hiệu ứng thay đổi sản phẩm được hiển thị ở phía bên trái khi chọn vào một sản phẩm trong danh sách các sản phẩm ở phía bên phải (1 điểm).\n",
    "\n",
    "![sample.png](sample.png)"
   ]
  }
 ],
 "metadata": {
  "language_info": {
   "name": "python"
  }
 },
 "nbformat": 4,
 "nbformat_minor": 5
}
